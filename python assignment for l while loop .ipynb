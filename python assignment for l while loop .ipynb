{
 "cells": [
  {
   "cell_type": "markdown",
   "id": "706bcb4e",
   "metadata": {},
   "source": [
    "# Q1. Which keyword is used to create a function? Create a function to return a list of odd numbers in the range of 1 to 25."
   ]
  },
  {
   "cell_type": "markdown",
   "id": "30c3b60b",
   "metadata": {},
   "source": [
    "# In Python, the keyword used to create a function is def.\n",
    "#Here's how you can create a function to return a list of odd numbers in the range of 1 to 25:\n",
    "def odd_numbers():\n",
    "    odd_list = []\n",
    "    for number in range(1, 26):\n",
    "        if number % 2 != 0:\n",
    "            odd_list.append(number)\n",
    "    return odd_list\n",
    "\n",
    "# Call the function and print the result\n",
    "print(\"List of odd numbers from 1 to 25:\")\n",
    "print(odd_numbers())\n"
   ]
  },
  {
   "cell_type": "markdown",
   "id": "242007cb",
   "metadata": {},
   "source": [
    "# Q2. Why *args and **kwargs is used in some functions? Create a function each for *args and **kwargs to demonstrate their use."
   ]
  },
  {
   "cell_type": "code",
   "execution_count": null,
   "id": "979c2fbf",
   "metadata": {},
   "outputs": [],
   "source": [
    "#**args and **kwargs are used in Python functions to handle variable numbers of arguments and keyword arguments respectively. Here's an explanation of each and an example function demonstrating their use:\n",
    "\n",
    "#*args:\n",
    "#Usage: *args is used when you want to pass a variable number of positional arguments to a function. The name args is just a convention; you can choose any name with a preceding asterisk ().\n",
    "\n",
    "#Syntax: It collects all the positional arguments into a tuple within the function.\n",
    "\n"
   ]
  },
  {
   "cell_type": "markdown",
   "id": "8f2add75",
   "metadata": {},
   "source": [
    "# def sum_numbers(*args):\n",
    "    total = 0\n",
    "    for num in args:\n",
    "        total += num\n",
    "    return total\n",
    "\n",
    "# Example usage\n",
    "result = sum_numbers(1, 2, 3, 4, 5)\n",
    "print(\"Sum using *args:\", result)\n"
   ]
  },
  {
   "cell_type": "code",
   "execution_count": 4,
   "id": "7935bb2d",
   "metadata": {},
   "outputs": [
    {
     "name": "stdout",
     "output_type": "stream",
     "text": [
      "name: sahil\n",
      "age: 30\n",
      "city: patna\n"
     ]
    }
   ],
   "source": [
    "def display_info(**kwargs):\n",
    "    for key, value in kwargs.items():\n",
    "        print(f\"{key}: {value}\")\n",
    "\n",
    "# Example usage\n",
    "display_info(name=\"sahil\", age=30, city=\"patna\")\n"
   ]
  },
  {
   "cell_type": "markdown",
   "id": "cc706683",
   "metadata": {},
   "source": [
    "# Q3. What is an iterator in python? Name the method used to initialise the iterator object and the method used for iteration. Use these methods to print the first five elements of the given list [2, 4, 6, 8, 10, 12, 14, 16, 18, 20]."
   ]
  },
  {
   "cell_type": "code",
   "execution_count": 5,
   "id": "b8e3c917",
   "metadata": {},
   "outputs": [
    {
     "name": "stdout",
     "output_type": "stream",
     "text": [
      "First five elements of the list:\n",
      "2\n",
      "4\n",
      "6\n",
      "8\n",
      "10\n"
     ]
    }
   ],
   "source": [
    "#In Python, an iterator is an object that implements the iterator protocol, which consists of two methods: __iter__() and __next__(). Iterators are used to iterate over elements in a sequence, like lists, tuples, dictionaries, and more.\n",
    "\n",
    "#Here's how iterators work and how to use them to print the first five elements of the list [2, 4, 6, 8, 10, 12, 14, 16, 18, 20]:\n",
    "\n",
    "#Iterator Protocol Methods:\n",
    "#__iter__() Method:\n",
    "\n",
    "#This method initializes the iterator object.\n",
    "#It returns the iterator object itself.\n",
    "#It is called when you use the iter() function on an iterable object (like a list).\n",
    "\n",
    "#__next__() Method:\n",
    "\n",
    "#This method retrieves the next item from the iterator.\n",
    "#It raises a StopIteration exception when there are no more items to return.\n",
    "#It is called when you use the next() function on an iterator object.\n",
    "\n",
    "\n",
    "\n",
    "\n",
    "# Given list\n",
    "my_list = [2, 4, 6, 8, 10, 12, 14, 16, 18, 20]\n",
    "\n",
    "# Initialize the iterator object using iter()\n",
    "my_iter = iter(my_list)\n",
    "\n",
    "# Iterate over the first five elements using next()\n",
    "print(\"First five elements of the list:\")\n",
    "for _ in range(5):\n",
    "    print(next(my_iter))\n",
    "\n",
    "\n",
    "\n",
    "\n",
    "\n"
   ]
  },
  {
   "cell_type": "markdown",
   "id": "4fc6610e",
   "metadata": {},
   "source": [
    "# Q4. What is a generator function in python? Why yield keyword is used? Give an example of a generator function."
   ]
  },
  {
   "cell_type": "code",
   "execution_count": null,
   "id": "4334fd22",
   "metadata": {},
   "outputs": [],
   "source": [
    "\n",
    "#In Python, a generator function is a special type of function that returns an iterator (i.e., a generator) which can be iterated over to lazily generate values on-the-fly. Unlike regular functions that return a single value and then exit, generator functions yield a sequence of values, one at a time, suspending their state between calls.\n",
    "\n",
    "#Why yield Keyword is Used?\n",
    "#Lazy Evaluation: The yield keyword is used in generator functions to produce a series of values over time, allowing the function to suspend its execution state (local variables and execution context) between successive calls.\n",
    "\n",
    "#Memory Efficiency: Generators are memory efficient because they generate values on-the-fly rather than storing them all in memory at once. This is particularly useful when dealing with large datasets or infinite sequences."
   ]
  },
  {
   "cell_type": "code",
   "execution_count": 7,
   "id": "8c231c7b",
   "metadata": {},
   "outputs": [
    {
     "name": "stdout",
     "output_type": "stream",
     "text": [
      "First 10 Fibonacci numbers:\n",
      "0\n",
      "1\n",
      "1\n",
      "2\n",
      "3\n",
      "5\n",
      "8\n",
      "13\n",
      "21\n",
      "34\n"
     ]
    }
   ],
   "source": [
    "def fibonacci_generator(n):\n",
    "    # Initialize first two Fibonacci numbers\n",
    "    a, b = 0, 1\n",
    "    count = 0\n",
    "    \n",
    "    while count < n:\n",
    "        yield a  # Yield current Fibonacci number\n",
    "        a, b = b, a + b  # Update Fibonacci sequence\n",
    "        count += 1\n",
    "\n",
    "# Using the generator function\n",
    "fib_gen = fibonacci_generator(10)  # Generate first 10 Fibonacci numbers\n",
    "\n",
    "# Iterating over the generator\n",
    "print(\"First 10 Fibonacci numbers:\")\n",
    "for num in fib_gen:\n",
    "    print(num)\n"
   ]
  },
  {
   "cell_type": "markdown",
   "id": "aa93b5fb",
   "metadata": {},
   "source": [
    "# Q5. Create a generator function for prime numbers less than 1000. Use the next() method to print the first 20 prime numbers."
   ]
  },
  {
   "cell_type": "code",
   "execution_count": 8,
   "id": "93e46fab",
   "metadata": {},
   "outputs": [
    {
     "name": "stdout",
     "output_type": "stream",
     "text": [
      "First 20 prime numbers less than 1000:\n",
      "2\n",
      "3\n",
      "5\n",
      "7\n",
      "11\n",
      "13\n",
      "17\n",
      "19\n",
      "23\n",
      "29\n",
      "31\n",
      "37\n",
      "41\n",
      "43\n",
      "47\n",
      "53\n",
      "59\n",
      "61\n",
      "67\n",
      "71\n"
     ]
    }
   ],
   "source": [
    "def is_prime(num):\n",
    "    \"\"\"Helper function to check if a number is prime.\"\"\"\n",
    "    if num <= 1:\n",
    "        return False\n",
    "    elif num <= 3:\n",
    "        return True\n",
    "    elif num % 2 == 0 or num % 3 == 0:\n",
    "        return False\n",
    "    i = 5\n",
    "    while i * i <= num:\n",
    "        if num % i == 0 or num % (i + 2) == 0:\n",
    "            return False\n",
    "        i += 6\n",
    "    return True\n",
    "\n",
    "def prime_generator():\n",
    "    \"\"\"Generator function to yield prime numbers less than 1000.\"\"\"\n",
    "    num = 2\n",
    "    while num < 1000:\n",
    "        if is_prime(num):\n",
    "            yield num\n",
    "        num += 1\n",
    "\n",
    "# Create a generator object\n",
    "prime_gen = prime_generator()\n",
    "\n",
    "# Print the first 20 prime numbers using next()\n",
    "print(\"First 20 prime numbers less than 1000:\")\n",
    "for _ in range(20):\n",
    "    print(next(prime_gen))\n"
   ]
  },
  {
   "cell_type": "markdown",
   "id": "ecc04abe",
   "metadata": {},
   "source": [
    "# Q6. Write a python program to print the first 10 Fibonacci numbers using a while loop."
   ]
  },
  {
   "cell_type": "code",
   "execution_count": 9,
   "id": "c61d9bdc",
   "metadata": {},
   "outputs": [
    {
     "name": "stdout",
     "output_type": "stream",
     "text": [
      "First 10 Fibonacci numbers:\n",
      "0\n",
      "1\n",
      "1\n",
      "2\n",
      "3\n",
      "5\n",
      "8\n",
      "13\n",
      "21\n",
      "34\n"
     ]
    }
   ],
   "source": [
    "def fibonacci_numbers(n):\n",
    "    \"\"\"Generate Fibonacci numbers up to n.\"\"\"\n",
    "    fib_list = []\n",
    "    a, b = 0, 1\n",
    "    count = 0\n",
    "    \n",
    "    while count < n:\n",
    "        fib_list.append(a)\n",
    "        a, b = b, a + b\n",
    "        count += 1\n",
    "    \n",
    "    return fib_list\n",
    "\n",
    "# Print the first 10 Fibonacci numbers\n",
    "fibonacci_list = fibonacci_numbers(10)\n",
    "print(\"First 10 Fibonacci numbers:\")\n",
    "for num in fibonacci_list:\n",
    "    print(num)\n"
   ]
  },
  {
   "cell_type": "markdown",
   "id": "11f63933",
   "metadata": {},
   "source": [
    "# Q7. Write a List Comprehension to iterate through the given string: ‘pwskills’. Expected output: ['p', 'w', 's', 'k', 'i', 'l', 'l', 's']"
   ]
  },
  {
   "cell_type": "code",
   "execution_count": 10,
   "id": "87dd2e6c",
   "metadata": {},
   "outputs": [
    {
     "name": "stdout",
     "output_type": "stream",
     "text": [
      "['p', 'w', 's', 'k', 'i', 'l', 'l', 's']\n"
     ]
    }
   ],
   "source": [
    "# Original string\n",
    "string = 'pwskills'\n",
    "\n",
    "# List comprehension to iterate through the string and create a list of characters\n",
    "char_list = [char for char in string]\n",
    "\n",
    "# Print the resulting list\n",
    "print(char_list)\n"
   ]
  },
  {
   "cell_type": "markdown",
   "id": "53aeda3c",
   "metadata": {},
   "source": [
    "# Q8. Write a python program to check whether a given number is Palindrome or not using a while loop."
   ]
  },
  {
   "cell_type": "code",
   "execution_count": 11,
   "id": "1e7de2bc",
   "metadata": {},
   "outputs": [
    {
     "name": "stdout",
     "output_type": "stream",
     "text": [
      "12321 is a palindrome\n"
     ]
    }
   ],
   "source": [
    "def is_palindrome(number):\n",
    "    \"\"\"Check if the given number is a palindrome.\"\"\"\n",
    "    original_number = number\n",
    "    reversed_number = 0\n",
    "    \n",
    "    while number > 0:\n",
    "        remainder = number % 10\n",
    "        reversed_number = reversed_number * 10 + remainder\n",
    "        number //= 10\n",
    "    \n",
    "    if original_number == reversed_number:\n",
    "        return True\n",
    "    else:\n",
    "        return False\n",
    "\n",
    "# Example usage\n",
    "num = 12321\n",
    "if is_palindrome(num):\n",
    "    print(f\"{num} is a palindrome\")\n",
    "else:\n",
    "    print(f\"{num} is not a palindrome\")\n"
   ]
  },
  {
   "cell_type": "markdown",
   "id": "8fcfad9b",
   "metadata": {},
   "source": [
    "# Q9. Write a code to print odd numbers from 1 to 100 using list comprehension. Note: Use a list comprehension to create a list from 1 to 100 and use another List comprehension to filter out odd numbers.\n",
    "\n"
   ]
  },
  {
   "cell_type": "code",
   "execution_count": 12,
   "id": "544cd9b8",
   "metadata": {},
   "outputs": [
    {
     "name": "stdout",
     "output_type": "stream",
     "text": [
      "Odd numbers from 1 to 100:\n",
      "[1, 3, 5, 7, 9, 11, 13, 15, 17, 19, 21, 23, 25, 27, 29, 31, 33, 35, 37, 39, 41, 43, 45, 47, 49, 51, 53, 55, 57, 59, 61, 63, 65, 67, 69, 71, 73, 75, 77, 79, 81, 83, 85, 87, 89, 91, 93, 95, 97, 99]\n"
     ]
    }
   ],
   "source": [
    "# List comprehension to create a list from 1 to 100\n",
    "numbers = list(range(1, 101))\n",
    "\n",
    "# List comprehension to filter out odd numbers\n",
    "odd_numbers = [num for num in numbers if num % 2 != 0]\n",
    "\n",
    "# Print the list of odd numbers\n",
    "print(\"Odd numbers from 1 to 100:\")\n",
    "print(odd_numbers)\n"
   ]
  },
  {
   "cell_type": "code",
   "execution_count": null,
   "id": "1fff6646",
   "metadata": {},
   "outputs": [],
   "source": []
  },
  {
   "cell_type": "code",
   "execution_count": null,
   "id": "1217cd1b",
   "metadata": {},
   "outputs": [],
   "source": []
  },
  {
   "cell_type": "code",
   "execution_count": null,
   "id": "9fd34aba",
   "metadata": {},
   "outputs": [],
   "source": []
  },
  {
   "cell_type": "code",
   "execution_count": null,
   "id": "8c558377",
   "metadata": {},
   "outputs": [],
   "source": []
  },
  {
   "cell_type": "code",
   "execution_count": null,
   "id": "7a0a7624",
   "metadata": {},
   "outputs": [],
   "source": []
  },
  {
   "cell_type": "code",
   "execution_count": null,
   "id": "8afda9ca",
   "metadata": {},
   "outputs": [],
   "source": []
  },
  {
   "cell_type": "code",
   "execution_count": null,
   "id": "82f12e18",
   "metadata": {},
   "outputs": [],
   "source": []
  },
  {
   "cell_type": "code",
   "execution_count": null,
   "id": "ed534903",
   "metadata": {},
   "outputs": [],
   "source": []
  },
  {
   "cell_type": "code",
   "execution_count": null,
   "id": "554aa7a6",
   "metadata": {},
   "outputs": [],
   "source": []
  },
  {
   "cell_type": "code",
   "execution_count": null,
   "id": "1d83072e",
   "metadata": {},
   "outputs": [],
   "source": []
  },
  {
   "cell_type": "code",
   "execution_count": null,
   "id": "1c812b62",
   "metadata": {},
   "outputs": [],
   "source": []
  },
  {
   "cell_type": "code",
   "execution_count": null,
   "id": "c2d174ba",
   "metadata": {},
   "outputs": [],
   "source": []
  },
  {
   "cell_type": "code",
   "execution_count": null,
   "id": "19cc93cf",
   "metadata": {},
   "outputs": [],
   "source": []
  },
  {
   "cell_type": "code",
   "execution_count": null,
   "id": "9b29d543",
   "metadata": {},
   "outputs": [],
   "source": []
  },
  {
   "cell_type": "code",
   "execution_count": null,
   "id": "57f3e7b9",
   "metadata": {},
   "outputs": [],
   "source": []
  },
  {
   "cell_type": "code",
   "execution_count": null,
   "id": "fd95f75c",
   "metadata": {},
   "outputs": [],
   "source": []
  },
  {
   "cell_type": "code",
   "execution_count": null,
   "id": "0b068b84",
   "metadata": {},
   "outputs": [],
   "source": []
  },
  {
   "cell_type": "code",
   "execution_count": null,
   "id": "e74a9957",
   "metadata": {},
   "outputs": [],
   "source": []
  }
 ],
 "metadata": {
  "kernelspec": {
   "display_name": "Python 3 (ipykernel)",
   "language": "python",
   "name": "python3"
  },
  "language_info": {
   "codemirror_mode": {
    "name": "ipython",
    "version": 3
   },
   "file_extension": ".py",
   "mimetype": "text/x-python",
   "name": "python",
   "nbconvert_exporter": "python",
   "pygments_lexer": "ipython3",
   "version": "3.11.5"
  }
 },
 "nbformat": 4,
 "nbformat_minor": 5
}
